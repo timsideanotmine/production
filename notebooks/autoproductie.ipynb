{
 "cells": [
  {
   "cell_type": "markdown",
   "metadata": {},
   "source": [
    "# Autproductie"
   ]
  },
  {
   "cell_type": "markdown",
   "metadata": {},
   "source": [
    "## Overzicht\n",
    "We kijken naar de dataset `cars.csv`, deze bevat informatie over de verkoop van 2e hands Volvo’s. We hebben hier een aantal vragen over, beantwoord deze vragen door een beetje code te schrijven en de antwoorden op te schrijven in een Jupyter Notebook."
   ]
  },
  {
   "cell_type": "markdown",
   "metadata": {},
   "source": [
    "### Vraag 1:\n",
    "Wat voor soort data zijn `year`, `fuel_type` en `seller_rating`? Motiveer je antwoord."
   ]
  },
  {
   "cell_type": "markdown",
   "metadata": {},
   "source": [
    "<span style=\"color:CadetBlue\">  \n",
    "\n",
    "- atribuut year bevat categorische ordinale data  \n",
    "\n",
    "motivatie : het attibuut is niet numerisch vermits jaren niet opgeteld kunnen worden en is daarom eerder categorisch, ook omdat jaren niet steeds even groot zijn. Opgelet: met jaren kunnen tijdsafhankelijke berekeningen worden uitgevoerd, in dat kader kàn het numerisch zijn. Niet in het kader van deze vraag en oefening, naar mijn mening. Het is ordinaal omdat jaren een logische - in dit geval chronologische - volgorde hebben.\n",
    "\n",
    "- atribuut fueltype bevat categorische niet ordinale data  \n",
    "\n",
    "motivatie : na onderzoek is vast te stellen dat de gegevens in het atribuut fueltype van het nominale type zijn vermits er geen ranschikking of volgorde mogelijk. Er is wel wat overlap in betekenis van de gebruikte waardes, alsook vreemde data zoals 'automatic'\n",
    "\n",
    "- atribuut seller_rating bevast categorische ordinale data\n",
    "\n",
    "motivatie : ratings zijn niet numeriek in dit geval vermits ze niet opgeteld of numerisch benaderd kunnen worden. Dat heeft geen zin. Ze zijn hier categorisch (tussen waarden 1.0 en 5.0) en ordinaal omdat een rating van 5.0 een 'betere' ofte hogere waardering geeft \n",
    "\n",
    "</span>"
   ]
  },
  {
   "cell_type": "markdown",
   "metadata": {},
   "source": [
    "### Vraag 2:\n",
    "Ik vraag me af hoe een gewoonlijke (mbt prijs) $2^e$ hands Volvo eruit ziet. Kan je deze zoeken en tonen?"
   ]
  },
  {
   "cell_type": "markdown",
   "metadata": {},
   "source": [
    "<span style=\"color:CadetBlue\">  \n",
    "\n",
    "Ik heb geen idee wat hier precies gevraagd wordt.\n",
    "Wordt hier gevraagd hoe een Volvo er uit ziet ?\n",
    "Wordt hier gevraagd hoe een Volvo er uit ziet met betrekking tot (mbt) de prijs ? Wat is dat voor een onozele vraag ?\n",
    "\n",
    "</span>"
   ]
  },
  {
   "cell_type": "markdown",
   "metadata": {},
   "source": [
    "### Vraag 3:\n",
    "We kunnen de verdeling van de prijs van $2^e$ hands Volvo's voorstellen met een histogram:\n",
    "![alt text](image.png)\n",
    " - Waar zou je verwachten dat het gemiddelde +/- ligt voor deze verdeling?\n",
    " - Waar zou je verwachten dat de mediaan +/- ligt?\n",
    "\n",
    "Teken dit histogram met `.hist` en gebruik `.axvline` om de mediaan en het gemiddelde toe te voegen aan de plot. Komt dit overeen met je verwachting?\n",
    "\n",
    " - Kan je de emprisiche cummulatieve distributie functie tekenen voor de verdeling die overeenkomt met dit histogram (zie ook `scipy.stats.ecdf`)."
   ]
  },
  {
   "cell_type": "code",
   "execution_count": null,
   "metadata": {},
   "outputs": [],
   "source": []
  },
  {
   "cell_type": "markdown",
   "metadata": {},
   "source": [
    "### Vraag 4:\n",
    "Ik wil nu de verschillende fuel types vergelijken hoeveel deze kosten. Hiervoor maak ik volgende afbeelding met meerdere histogrammen hoe kunnen we deze beter maken? Welke alternatieven zijn er nog?\n",
    "![alt text](image-1.png)"
   ]
  },
  {
   "cell_type": "code",
   "execution_count": null,
   "metadata": {},
   "outputs": [],
   "source": []
  },
  {
   "cell_type": "markdown",
   "metadata": {},
   "source": [
    "### Vraag 5:\n",
    "Gegeven volgende boxplots van de prijs van elektrische & benzine wagens, zijn volgende uitspraken waar/onwaar/niet te besluiten & leg uit:\n",
    "\n",
    "![alt text](image-2.png)\n",
    "\n",
    " - De spreiding op de prijs van elektrische wagens is groter dan die van benzinewagens.\n",
    "\n",
    " - Een wagen die meer dan 50 000 euro kost heeft een grotere kans om elektrisch te zijn dan benzine.\n",
    "\n",
    " - Een elektrische wagen heeft een grotere kans om meer dan 50 000 euro te kosten dan een benzine wagen."
   ]
  },
  {
   "cell_type": "code",
   "execution_count": null,
   "metadata": {},
   "outputs": [],
   "source": []
  },
  {
   "cell_type": "markdown",
   "metadata": {},
   "source": [
    "### Vraag 6:\n",
    "Maak een visualizatie om het verband tussen mileage & price te tonen?"
   ]
  },
  {
   "cell_type": "code",
   "execution_count": null,
   "metadata": {},
   "outputs": [],
   "source": []
  },
  {
   "cell_type": "markdown",
   "metadata": {},
   "source": [
    "### Vraag 7:\n",
    "Volgens deze data is de gemiddelde prijs van $2^e$ hands elektrische Volvo’s 48 000 euro; als we veronderstellen dat onze dataset representatief is voor alle 2de hands volvo’s, hoe kan je de accuraatheid van deze schatting nagaan?"
   ]
  },
  {
   "cell_type": "code",
   "execution_count": null,
   "metadata": {},
   "outputs": [],
   "source": []
  }
 ],
 "metadata": {
  "kernelspec": {
   "display_name": ".venv",
   "language": "python",
   "name": "python3"
  },
  "language_info": {
   "name": "python",
   "version": "3.12.2"
  }
 },
 "nbformat": 4,
 "nbformat_minor": 2
}
