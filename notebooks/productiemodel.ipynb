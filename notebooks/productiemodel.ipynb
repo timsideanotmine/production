{
 "cells": [
  {
   "cell_type": "markdown",
   "metadata": {},
   "source": [
    "# A : nodige modules"
   ]
  },
  {
   "cell_type": "code",
   "execution_count": 174,
   "metadata": {},
   "outputs": [],
   "source": [
    "# standaard in python\n",
    "import os \n",
    "import datetime\n",
    "import sys\n",
    "import json"
   ]
  },
  {
   "cell_type": "code",
   "execution_count": 175,
   "metadata": {},
   "outputs": [],
   "source": [
    "# te installeren packages en modules\n",
    "import numpy as np\n",
    "import pandas as pd\n",
    "\n",
    "import matplotlib.pyplot as plt\n",
    "import matplotlib.cm as cm\n",
    "import matplotlib.colors as colors\n",
    "\n",
    "from scipy.stats import norm"
   ]
  },
  {
   "cell_type": "code",
   "execution_count": 176,
   "metadata": {},
   "outputs": [],
   "source": [
    "# eigen packages modules\n",
    "current_working_directory = os.getcwd()                                    \n",
    "parent_working_directory = os.path.dirname(current_working_directory)      \n",
    "scripts_directory = os.path.join(parent_working_directory, 'scripts')      \n",
    "sys.path.append(scripts_directory)                                         \n",
    "# sys.path.remove(scripts_directory)\n",
    "# print(sys.path)\n",
    "\n",
    "import comeinhandy as cih\n",
    "import simulatie as sim"
   ]
  },
  {
   "cell_type": "markdown",
   "metadata": {},
   "source": [
    "# B : functies om herhaling te vermijden"
   ]
  },
  {
   "cell_type": "code",
   "execution_count": 177,
   "metadata": {},
   "outputs": [],
   "source": [
    "#  zie cih = 'comeinhandy' module"
   ]
  },
  {
   "cell_type": "markdown",
   "metadata": {},
   "source": [
    "# C : opladen van de gegevens"
   ]
  },
  {
   "cell_type": "code",
   "execution_count": 178,
   "metadata": {},
   "outputs": [],
   "source": [
    "# C.1 opladen JSON file met MSR waarden (min_sust_rate = minimu sustainable rate)\n",
    "min_sust_rate_locatie = \"../data/raw/productiemodel/data_productie/master_data.json\"\n",
    "df_msr_gegevens = cih.laad_msr_gegevens_in_dataframe(min_sust_rate_locatie)\n",
    "# df_msr_gegevens"
   ]
  },
  {
   "cell_type": "code",
   "execution_count": 179,
   "metadata": {},
   "outputs": [],
   "source": [
    "# C.2 bepaal waar de dagelijk productie sets (per fabriek) zich bevinden op schijf\n",
    "dagelijkse_productie_locatie = \"../data/raw/productiemodel/data_productie/daily_production/\""
   ]
  },
  {
   "cell_type": "code",
   "execution_count": 180,
   "metadata": {},
   "outputs": [],
   "source": [
    "\n",
    "# C.2.1. Laad dagelijks productie voor BRU in zijn dataframe\n",
    "factory = 'BRU'\n",
    "dagelijkse_productie_BRU = cih.laad_dagelijkse_productie_in_dataframe(\n",
    "                                factory, \n",
    "                                os.path.join(dagelijkse_productie_locatie, factory))\n",
    "# dagelijkse_productie_BRU\n",
    "\n",
    "# C.2.2 voeg MSR waarden toe op het BRU dagelijkse productie dataframe\n",
    "dagelijkse_productie_BRU = dagelijkse_productie_BRU.merge(\n",
    "                                        df_msr_gegevens, on='factory', how='left')\n",
    "dagelijkse_productie_BRU\n",
    "\n",
    "# C.2.3 verwijder records waar onderhoud werd gepland, zie opgave beschrijving 5, bullet 1 en dixit Tim in de klas\n",
    "dagelijkse_productie_BRU = dagelijkse_productie_BRU[dagelijkse_productie_BRU['maintenance'] == 'No']\n",
    "# dagelijkse_productie_BRU"
   ]
  },
  {
   "cell_type": "code",
   "execution_count": 181,
   "metadata": {},
   "outputs": [],
   "source": [
    "# C.3.1. Laad dagelijks productie voor STO in zijn dataframe\n",
    "factory = 'STO'\n",
    "dagelijkse_productie_STO = cih.laad_dagelijkse_productie_in_dataframe(\n",
    "                                factory, \n",
    "                                os.path.join(dagelijkse_productie_locatie, factory))\n",
    "# dagelijkse_productie_STO\n",
    "\n",
    "# C.2.2 voeg MSR waarden toe op het STO dagelijkse productie dataframe\n",
    "dagelijkse_productie_STO = dagelijkse_productie_STO.merge(\n",
    "                                        df_msr_gegevens, on='factory', how='left')\n",
    "# dagelijkse_productie_STO\n",
    "\n",
    "# C.3.3 verwijder records waar onderhoud werd gepland, zie opgave beschrijving 5, bullet 1 en dixit Tim in de klas\n",
    "dagelijkse_productie_STO = dagelijkse_productie_STO[dagelijkse_productie_STO['maintenance'] == 'No']\n",
    "# dagelijkse_productie_STO"
   ]
  },
  {
   "cell_type": "code",
   "execution_count": 182,
   "metadata": {},
   "outputs": [],
   "source": [
    "# C.5.0 Breng alle gegevens te samen in een groot dataframe voor analyse\n",
    "dagelijkse_productie_ALL = pd.concat(\n",
    "                            [dagelijkse_productie_BRU, \n",
    "                             dagelijkse_productie_STO],\n",
    "                               ignore_index=True)\n",
    "#  save het voor analyse in een Excel sheet\n",
    "dagelijkse_productie_ALL.to_excel(\"../data/interim/dagelijkse_productie_ALL.xlsx\")\n",
    "# dagelijkse_productie_ALL"
   ]
  },
  {
   "cell_type": "code",
   "execution_count": 183,
   "metadata": {},
   "outputs": [
    {
     "data": {
      "text/plain": [
       "497.17352259559675"
      ]
     },
     "execution_count": 183,
     "metadata": {},
     "output_type": "execute_result"
    }
   ],
   "source": [
    "dagelijkse_productie_ALL['production'].mean()\n",
    "# dagelijkse_productie_ALL['production'].median()\n",
    "# dagelijkse_productie_ALL.describe(include='all')"
   ]
  },
  {
   "cell_type": "markdown",
   "metadata": {},
   "source": [
    "# D : minimale controle van het Dataframe"
   ]
  },
  {
   "cell_type": "code",
   "execution_count": 184,
   "metadata": {},
   "outputs": [
    {
     "data": {
      "text/html": [
       "<div>\n",
       "<style scoped>\n",
       "    .dataframe tbody tr th:only-of-type {\n",
       "        vertical-align: middle;\n",
       "    }\n",
       "\n",
       "    .dataframe tbody tr th {\n",
       "        vertical-align: top;\n",
       "    }\n",
       "\n",
       "    .dataframe thead th {\n",
       "        text-align: right;\n",
       "    }\n",
       "</style>\n",
       "<table border=\"1\" class=\"dataframe\">\n",
       "  <thead>\n",
       "    <tr style=\"text-align: right;\">\n",
       "      <th></th>\n",
       "      <th>DoW</th>\n",
       "      <th>hour</th>\n",
       "      <th>minute</th>\n",
       "      <th>date</th>\n",
       "      <th>maintenance</th>\n",
       "      <th>prod_loss</th>\n",
       "      <th>prod_loss_perc</th>\n",
       "      <th>production</th>\n",
       "      <th>factory</th>\n",
       "      <th>msr_description</th>\n",
       "      <th>msr_value</th>\n",
       "    </tr>\n",
       "  </thead>\n",
       "  <tbody>\n",
       "    <tr>\n",
       "      <th>0</th>\n",
       "      <td>Monday</td>\n",
       "      <td>1</td>\n",
       "      <td>0</td>\n",
       "      <td>01-01-2018 00:00:00.0000</td>\n",
       "      <td>No</td>\n",
       "      <td>61</td>\n",
       "      <td>5</td>\n",
       "      <td>1183</td>\n",
       "      <td>BRU</td>\n",
       "      <td>BRU msr</td>\n",
       "      <td>1244</td>\n",
       "    </tr>\n",
       "    <tr>\n",
       "      <th>1</th>\n",
       "      <td>Tuesday</td>\n",
       "      <td>1</td>\n",
       "      <td>0</td>\n",
       "      <td>01-02-2018 00:00:00.0000</td>\n",
       "      <td>No</td>\n",
       "      <td>106</td>\n",
       "      <td>9</td>\n",
       "      <td>1138</td>\n",
       "      <td>BRU</td>\n",
       "      <td>BRU msr</td>\n",
       "      <td>1244</td>\n",
       "    </tr>\n",
       "    <tr>\n",
       "      <th>2</th>\n",
       "      <td>Wednesday</td>\n",
       "      <td>1</td>\n",
       "      <td>0</td>\n",
       "      <td>01-03-2018 00:00:00.0000</td>\n",
       "      <td>No</td>\n",
       "      <td>129</td>\n",
       "      <td>10</td>\n",
       "      <td>1115</td>\n",
       "      <td>BRU</td>\n",
       "      <td>BRU msr</td>\n",
       "      <td>1244</td>\n",
       "    </tr>\n",
       "    <tr>\n",
       "      <th>3</th>\n",
       "      <td>Thursday</td>\n",
       "      <td>1</td>\n",
       "      <td>0</td>\n",
       "      <td>01-04-2018 00:00:00.0000</td>\n",
       "      <td>No</td>\n",
       "      <td>278</td>\n",
       "      <td>22</td>\n",
       "      <td>966</td>\n",
       "      <td>BRU</td>\n",
       "      <td>BRU msr</td>\n",
       "      <td>1244</td>\n",
       "    </tr>\n",
       "    <tr>\n",
       "      <th>4</th>\n",
       "      <td>Friday</td>\n",
       "      <td>1</td>\n",
       "      <td>0</td>\n",
       "      <td>01-05-2018 00:00:00.0000</td>\n",
       "      <td>No</td>\n",
       "      <td>218</td>\n",
       "      <td>17</td>\n",
       "      <td>1026</td>\n",
       "      <td>BRU</td>\n",
       "      <td>BRU msr</td>\n",
       "      <td>1244</td>\n",
       "    </tr>\n",
       "    <tr>\n",
       "      <th>...</th>\n",
       "      <td>...</td>\n",
       "      <td>...</td>\n",
       "      <td>...</td>\n",
       "      <td>...</td>\n",
       "      <td>...</td>\n",
       "      <td>...</td>\n",
       "      <td>...</td>\n",
       "      <td>...</td>\n",
       "      <td>...</td>\n",
       "      <td>...</td>\n",
       "      <td>...</td>\n",
       "    </tr>\n",
       "    <tr>\n",
       "      <th>3447</th>\n",
       "      <td>Saturday</td>\n",
       "      <td>1</td>\n",
       "      <td>0</td>\n",
       "      <td>12-31-2022 00:00:00.0000</td>\n",
       "      <td>No</td>\n",
       "      <td>51</td>\n",
       "      <td>19</td>\n",
       "      <td>223</td>\n",
       "      <td>STO</td>\n",
       "      <td>STO msr</td>\n",
       "      <td>274</td>\n",
       "    </tr>\n",
       "    <tr>\n",
       "      <th>3448</th>\n",
       "      <td>Sunday</td>\n",
       "      <td>1</td>\n",
       "      <td>0</td>\n",
       "      <td>01-01-2023 00:00:00.0000</td>\n",
       "      <td>No</td>\n",
       "      <td>53</td>\n",
       "      <td>20</td>\n",
       "      <td>221</td>\n",
       "      <td>STO</td>\n",
       "      <td>STO msr</td>\n",
       "      <td>274</td>\n",
       "    </tr>\n",
       "    <tr>\n",
       "      <th>3449</th>\n",
       "      <td>Monday</td>\n",
       "      <td>1</td>\n",
       "      <td>0</td>\n",
       "      <td>01-02-2023 00:00:00.0000</td>\n",
       "      <td>No</td>\n",
       "      <td>61</td>\n",
       "      <td>22</td>\n",
       "      <td>213</td>\n",
       "      <td>STO</td>\n",
       "      <td>STO msr</td>\n",
       "      <td>274</td>\n",
       "    </tr>\n",
       "    <tr>\n",
       "      <th>3450</th>\n",
       "      <td>Tuesday</td>\n",
       "      <td>1</td>\n",
       "      <td>0</td>\n",
       "      <td>01-03-2023 00:00:00.0000</td>\n",
       "      <td>No</td>\n",
       "      <td>70</td>\n",
       "      <td>25</td>\n",
       "      <td>204</td>\n",
       "      <td>STO</td>\n",
       "      <td>STO msr</td>\n",
       "      <td>274</td>\n",
       "    </tr>\n",
       "    <tr>\n",
       "      <th>3451</th>\n",
       "      <td>Wednesday</td>\n",
       "      <td>1</td>\n",
       "      <td>0</td>\n",
       "      <td>01-04-2023 00:00:00.0000</td>\n",
       "      <td>No</td>\n",
       "      <td>69</td>\n",
       "      <td>25</td>\n",
       "      <td>205</td>\n",
       "      <td>STO</td>\n",
       "      <td>STO msr</td>\n",
       "      <td>274</td>\n",
       "    </tr>\n",
       "  </tbody>\n",
       "</table>\n",
       "<p>3452 rows × 11 columns</p>\n",
       "</div>"
      ],
      "text/plain": [
       "            DoW  hour  minute                      date maintenance prod_loss  \\\n",
       "0        Monday     1       0  01-01-2018 00:00:00.0000          No        61   \n",
       "1       Tuesday     1       0  01-02-2018 00:00:00.0000          No       106   \n",
       "2     Wednesday     1       0  01-03-2018 00:00:00.0000          No       129   \n",
       "3      Thursday     1       0  01-04-2018 00:00:00.0000          No       278   \n",
       "4        Friday     1       0  01-05-2018 00:00:00.0000          No       218   \n",
       "...         ...   ...     ...                       ...         ...       ...   \n",
       "3447   Saturday     1       0  12-31-2022 00:00:00.0000          No        51   \n",
       "3448     Sunday     1       0  01-01-2023 00:00:00.0000          No        53   \n",
       "3449     Monday     1       0  01-02-2023 00:00:00.0000          No        61   \n",
       "3450    Tuesday     1       0  01-03-2023 00:00:00.0000          No        70   \n",
       "3451  Wednesday     1       0  01-04-2023 00:00:00.0000          No        69   \n",
       "\n",
       "     prod_loss_perc production factory msr_description  msr_value  \n",
       "0                 5       1183     BRU         BRU msr       1244  \n",
       "1                 9       1138     BRU         BRU msr       1244  \n",
       "2                10       1115     BRU         BRU msr       1244  \n",
       "3                22        966     BRU         BRU msr       1244  \n",
       "4                17       1026     BRU         BRU msr       1244  \n",
       "...             ...        ...     ...             ...        ...  \n",
       "3447             19        223     STO         STO msr        274  \n",
       "3448             20        221     STO         STO msr        274  \n",
       "3449             22        213     STO         STO msr        274  \n",
       "3450             25        204     STO         STO msr        274  \n",
       "3451             25        205     STO         STO msr        274  \n",
       "\n",
       "[3452 rows x 11 columns]"
      ]
     },
     "execution_count": 184,
     "metadata": {},
     "output_type": "execute_result"
    }
   ],
   "source": [
    "dagelijkse_productie_ALL"
   ]
  },
  {
   "cell_type": "code",
   "execution_count": 185,
   "metadata": {},
   "outputs": [
    {
     "data": {
      "text/plain": [
       "(3452, 11)"
      ]
     },
     "execution_count": 185,
     "metadata": {},
     "output_type": "execute_result"
    }
   ],
   "source": [
    "dagelijkse_productie_ALL.shape"
   ]
  },
  {
   "cell_type": "code",
   "execution_count": 186,
   "metadata": {},
   "outputs": [
    {
     "data": {
      "text/plain": [
       "Index(['DoW', 'hour', 'minute', 'date', 'maintenance', 'prod_loss',\n",
       "       'prod_loss_perc', 'production', 'factory', 'msr_description',\n",
       "       'msr_value'],\n",
       "      dtype='object')"
      ]
     },
     "execution_count": 186,
     "metadata": {},
     "output_type": "execute_result"
    }
   ],
   "source": [
    "dagelijkse_productie_ALL.columns"
   ]
  },
  {
   "cell_type": "code",
   "execution_count": 187,
   "metadata": {},
   "outputs": [
    {
     "data": {
      "text/plain": [
       "RangeIndex(start=0, stop=3452, step=1)"
      ]
     },
     "execution_count": 187,
     "metadata": {},
     "output_type": "execute_result"
    }
   ],
   "source": [
    "dagelijkse_productie_ALL.index"
   ]
  },
  {
   "cell_type": "code",
   "execution_count": 188,
   "metadata": {},
   "outputs": [
    {
     "name": "stdout",
     "output_type": "stream",
     "text": [
      "<class 'pandas.core.frame.DataFrame'>\n",
      "RangeIndex: 3452 entries, 0 to 3451\n",
      "Data columns (total 11 columns):\n",
      " #   Column           Non-Null Count  Dtype \n",
      "---  ------           --------------  ----- \n",
      " 0   DoW              3452 non-null   object\n",
      " 1   hour             3452 non-null   int64 \n",
      " 2   minute           3452 non-null   int64 \n",
      " 3   date             3452 non-null   object\n",
      " 4   maintenance      3452 non-null   object\n",
      " 5   prod_loss        3452 non-null   object\n",
      " 6   prod_loss_perc   3452 non-null   object\n",
      " 7   production       3452 non-null   object\n",
      " 8   factory          3452 non-null   object\n",
      " 9   msr_description  3452 non-null   object\n",
      " 10  msr_value        3452 non-null   int64 \n",
      "dtypes: int64(3), object(8)\n",
      "memory usage: 296.8+ KB\n"
     ]
    }
   ],
   "source": [
    "dagelijkse_productie_ALL.info()"
   ]
  },
  {
   "cell_type": "code",
   "execution_count": 189,
   "metadata": {},
   "outputs": [
    {
     "data": {
      "text/html": [
       "<div>\n",
       "<style scoped>\n",
       "    .dataframe tbody tr th:only-of-type {\n",
       "        vertical-align: middle;\n",
       "    }\n",
       "\n",
       "    .dataframe tbody tr th {\n",
       "        vertical-align: top;\n",
       "    }\n",
       "\n",
       "    .dataframe thead th {\n",
       "        text-align: right;\n",
       "    }\n",
       "</style>\n",
       "<table border=\"1\" class=\"dataframe\">\n",
       "  <thead>\n",
       "    <tr style=\"text-align: right;\">\n",
       "      <th></th>\n",
       "      <th>DoW</th>\n",
       "      <th>hour</th>\n",
       "      <th>minute</th>\n",
       "      <th>date</th>\n",
       "      <th>maintenance</th>\n",
       "      <th>prod_loss</th>\n",
       "      <th>prod_loss_perc</th>\n",
       "      <th>production</th>\n",
       "      <th>factory</th>\n",
       "      <th>msr_description</th>\n",
       "      <th>msr_value</th>\n",
       "    </tr>\n",
       "  </thead>\n",
       "  <tbody>\n",
       "    <tr>\n",
       "      <th>count</th>\n",
       "      <td>3452</td>\n",
       "      <td>3452.0</td>\n",
       "      <td>3452.0</td>\n",
       "      <td>3452</td>\n",
       "      <td>3452</td>\n",
       "      <td>3452.0</td>\n",
       "      <td>3452.0</td>\n",
       "      <td>3452.0</td>\n",
       "      <td>3452</td>\n",
       "      <td>3452</td>\n",
       "      <td>3452.000000</td>\n",
       "    </tr>\n",
       "    <tr>\n",
       "      <th>unique</th>\n",
       "      <td>7</td>\n",
       "      <td>NaN</td>\n",
       "      <td>NaN</td>\n",
       "      <td>1830</td>\n",
       "      <td>1</td>\n",
       "      <td>433.0</td>\n",
       "      <td>93.0</td>\n",
       "      <td>580.0</td>\n",
       "      <td>2</td>\n",
       "      <td>2</td>\n",
       "      <td>NaN</td>\n",
       "    </tr>\n",
       "    <tr>\n",
       "      <th>top</th>\n",
       "      <td>Monday</td>\n",
       "      <td>NaN</td>\n",
       "      <td>NaN</td>\n",
       "      <td>01-01-2018 00:00:00.0000</td>\n",
       "      <td>No</td>\n",
       "      <td>1244.0</td>\n",
       "      <td>100.0</td>\n",
       "      <td>0.0</td>\n",
       "      <td>BRU</td>\n",
       "      <td>BRU msr</td>\n",
       "      <td>NaN</td>\n",
       "    </tr>\n",
       "    <tr>\n",
       "      <th>freq</th>\n",
       "      <td>496</td>\n",
       "      <td>NaN</td>\n",
       "      <td>NaN</td>\n",
       "      <td>2</td>\n",
       "      <td>3452</td>\n",
       "      <td>308.0</td>\n",
       "      <td>434.0</td>\n",
       "      <td>434.0</td>\n",
       "      <td>1736</td>\n",
       "      <td>1736</td>\n",
       "      <td>NaN</td>\n",
       "    </tr>\n",
       "    <tr>\n",
       "      <th>mean</th>\n",
       "      <td>NaN</td>\n",
       "      <td>1.0</td>\n",
       "      <td>0.0</td>\n",
       "      <td>NaN</td>\n",
       "      <td>NaN</td>\n",
       "      <td>NaN</td>\n",
       "      <td>NaN</td>\n",
       "      <td>NaN</td>\n",
       "      <td>NaN</td>\n",
       "      <td>NaN</td>\n",
       "      <td>761.809965</td>\n",
       "    </tr>\n",
       "    <tr>\n",
       "      <th>std</th>\n",
       "      <td>NaN</td>\n",
       "      <td>0.0</td>\n",
       "      <td>0.0</td>\n",
       "      <td>NaN</td>\n",
       "      <td>NaN</td>\n",
       "      <td>NaN</td>\n",
       "      <td>NaN</td>\n",
       "      <td>NaN</td>\n",
       "      <td>NaN</td>\n",
       "      <td>NaN</td>\n",
       "      <td>485.062123</td>\n",
       "    </tr>\n",
       "    <tr>\n",
       "      <th>min</th>\n",
       "      <td>NaN</td>\n",
       "      <td>1.0</td>\n",
       "      <td>0.0</td>\n",
       "      <td>NaN</td>\n",
       "      <td>NaN</td>\n",
       "      <td>NaN</td>\n",
       "      <td>NaN</td>\n",
       "      <td>NaN</td>\n",
       "      <td>NaN</td>\n",
       "      <td>NaN</td>\n",
       "      <td>274.000000</td>\n",
       "    </tr>\n",
       "    <tr>\n",
       "      <th>25%</th>\n",
       "      <td>NaN</td>\n",
       "      <td>1.0</td>\n",
       "      <td>0.0</td>\n",
       "      <td>NaN</td>\n",
       "      <td>NaN</td>\n",
       "      <td>NaN</td>\n",
       "      <td>NaN</td>\n",
       "      <td>NaN</td>\n",
       "      <td>NaN</td>\n",
       "      <td>NaN</td>\n",
       "      <td>274.000000</td>\n",
       "    </tr>\n",
       "    <tr>\n",
       "      <th>50%</th>\n",
       "      <td>NaN</td>\n",
       "      <td>1.0</td>\n",
       "      <td>0.0</td>\n",
       "      <td>NaN</td>\n",
       "      <td>NaN</td>\n",
       "      <td>NaN</td>\n",
       "      <td>NaN</td>\n",
       "      <td>NaN</td>\n",
       "      <td>NaN</td>\n",
       "      <td>NaN</td>\n",
       "      <td>1244.000000</td>\n",
       "    </tr>\n",
       "    <tr>\n",
       "      <th>75%</th>\n",
       "      <td>NaN</td>\n",
       "      <td>1.0</td>\n",
       "      <td>0.0</td>\n",
       "      <td>NaN</td>\n",
       "      <td>NaN</td>\n",
       "      <td>NaN</td>\n",
       "      <td>NaN</td>\n",
       "      <td>NaN</td>\n",
       "      <td>NaN</td>\n",
       "      <td>NaN</td>\n",
       "      <td>1244.000000</td>\n",
       "    </tr>\n",
       "    <tr>\n",
       "      <th>max</th>\n",
       "      <td>NaN</td>\n",
       "      <td>1.0</td>\n",
       "      <td>0.0</td>\n",
       "      <td>NaN</td>\n",
       "      <td>NaN</td>\n",
       "      <td>NaN</td>\n",
       "      <td>NaN</td>\n",
       "      <td>NaN</td>\n",
       "      <td>NaN</td>\n",
       "      <td>NaN</td>\n",
       "      <td>1244.000000</td>\n",
       "    </tr>\n",
       "  </tbody>\n",
       "</table>\n",
       "</div>"
      ],
      "text/plain": [
       "           DoW    hour  minute                      date maintenance  \\\n",
       "count     3452  3452.0  3452.0                      3452        3452   \n",
       "unique       7     NaN     NaN                      1830           1   \n",
       "top     Monday     NaN     NaN  01-01-2018 00:00:00.0000          No   \n",
       "freq       496     NaN     NaN                         2        3452   \n",
       "mean       NaN     1.0     0.0                       NaN         NaN   \n",
       "std        NaN     0.0     0.0                       NaN         NaN   \n",
       "min        NaN     1.0     0.0                       NaN         NaN   \n",
       "25%        NaN     1.0     0.0                       NaN         NaN   \n",
       "50%        NaN     1.0     0.0                       NaN         NaN   \n",
       "75%        NaN     1.0     0.0                       NaN         NaN   \n",
       "max        NaN     1.0     0.0                       NaN         NaN   \n",
       "\n",
       "        prod_loss  prod_loss_perc  production factory msr_description  \\\n",
       "count      3452.0          3452.0      3452.0    3452            3452   \n",
       "unique      433.0            93.0       580.0       2               2   \n",
       "top        1244.0           100.0         0.0     BRU         BRU msr   \n",
       "freq        308.0           434.0       434.0    1736            1736   \n",
       "mean          NaN             NaN         NaN     NaN             NaN   \n",
       "std           NaN             NaN         NaN     NaN             NaN   \n",
       "min           NaN             NaN         NaN     NaN             NaN   \n",
       "25%           NaN             NaN         NaN     NaN             NaN   \n",
       "50%           NaN             NaN         NaN     NaN             NaN   \n",
       "75%           NaN             NaN         NaN     NaN             NaN   \n",
       "max           NaN             NaN         NaN     NaN             NaN   \n",
       "\n",
       "          msr_value  \n",
       "count   3452.000000  \n",
       "unique          NaN  \n",
       "top             NaN  \n",
       "freq            NaN  \n",
       "mean     761.809965  \n",
       "std      485.062123  \n",
       "min      274.000000  \n",
       "25%      274.000000  \n",
       "50%     1244.000000  \n",
       "75%     1244.000000  \n",
       "max     1244.000000  "
      ]
     },
     "execution_count": 189,
     "metadata": {},
     "output_type": "execute_result"
    }
   ],
   "source": [
    "dagelijkse_productie_ALL.describe()\n",
    "dagelijkse_productie_ALL.describe(include = \"all\") "
   ]
  },
  {
   "cell_type": "code",
   "execution_count": 190,
   "metadata": {},
   "outputs": [
    {
     "name": "stdout",
     "output_type": "stream",
     "text": [
      "----- None -- production -----------------------------------\n",
      "df[col].describe(include='all') = count     1736\n",
      "unique     387\n",
      "top          0\n",
      "freq       308\n",
      "Name: production, dtype: int64 \n",
      "\n",
      "----- None -- production -----------------------------------\n",
      "df[col].nunique(dropna=True) = 387 \n",
      " \n",
      "----- None -- production -----------------------------------\n",
      "df[col].value_counts() = production\n",
      "0       308\n",
      "1011     13\n",
      "1115     12\n",
      "1005     11\n",
      "1019     11\n",
      "       ... \n",
      "869       1\n",
      "886       1\n",
      "874       1\n",
      "418       1\n",
      "876       1\n",
      "Name: count, Length: 387, dtype: int64 \n",
      " \n",
      "----- end of query --------------------------------------------------\n"
     ]
    }
   ],
   "source": [
    "cih.show_info_about_column(dagelijkse_productie_BRU, 'production')"
   ]
  },
  {
   "cell_type": "code",
   "execution_count": 191,
   "metadata": {},
   "outputs": [
    {
     "name": "stdout",
     "output_type": "stream",
     "text": [
      "----- None -- production -----------------------------------\n",
      "df[col].describe(include='all') = count     1716\n",
      "unique     194\n",
      "top          0\n",
      "freq       126\n",
      "Name: production, dtype: int64 \n",
      "\n",
      "----- None -- production -----------------------------------\n",
      "df[col].nunique(dropna=True) = 194 \n",
      " \n",
      "----- None -- production -----------------------------------\n",
      "df[col].value_counts() = production\n",
      "0      126\n",
      "202     55\n",
      "198     51\n",
      "203     50\n",
      "209     50\n",
      "      ... \n",
      "110      1\n",
      "34       1\n",
      "145      1\n",
      "41       1\n",
      "152      1\n",
      "Name: count, Length: 194, dtype: int64 \n",
      " \n",
      "----- end of query --------------------------------------------------\n"
     ]
    }
   ],
   "source": [
    "cih.show_info_about_column(dagelijkse_productie_STO, 'production')"
   ]
  },
  {
   "cell_type": "code",
   "execution_count": 192,
   "metadata": {},
   "outputs": [
    {
     "name": "stdout",
     "output_type": "stream",
     "text": [
      "----- None -- production -----------------------------------\n",
      "df[col].describe(include='all') = count     3452\n",
      "unique     580\n",
      "top          0\n",
      "freq       434\n",
      "Name: production, dtype: int64 \n",
      "\n",
      "----- None -- production -----------------------------------\n",
      "df[col].nunique(dropna=True) = 580 \n",
      " \n",
      "----- None -- production -----------------------------------\n",
      "df[col].value_counts() = production\n",
      "0      434\n",
      "202     55\n",
      "198     51\n",
      "203     50\n",
      "209     50\n",
      "      ... \n",
      "474      1\n",
      "630      1\n",
      "642      1\n",
      "896      1\n",
      "152      1\n",
      "Name: count, Length: 580, dtype: int64 \n",
      " \n",
      "----- end of query --------------------------------------------------\n"
     ]
    }
   ],
   "source": [
    "cih.show_info_about_column(dagelijkse_productie_ALL, 'production')"
   ]
  },
  {
   "cell_type": "code",
   "execution_count": null,
   "metadata": {},
   "outputs": [],
   "source": []
  },
  {
   "cell_type": "code",
   "execution_count": null,
   "metadata": {},
   "outputs": [],
   "source": []
  },
  {
   "cell_type": "markdown",
   "metadata": {},
   "source": [
    "# E : permanente cleaning van de data"
   ]
  },
  {
   "cell_type": "code",
   "execution_count": 193,
   "metadata": {},
   "outputs": [],
   "source": [
    "# dagelijkse_productie_STO.info()\n",
    "\n",
    "# # columns_to_convert_to_int = ['prod_loss', 'production']\n",
    "# # dagelijkse_productie_STO[columns_to_convert_to_int] = dagelijkse_productie_STO[columns_to_convert_to_int].astype(int) \n",
    "# # dagelijkse_productie_STO['prod_loss'] = dagelijkse_productie_STO['prod_loss'].astype(int) \n",
    "# # dagelijkse_productie_STO['production'] = dagelijkse_productie_STO['production'].astype(int) \n",
    "# dagelijkse_productie_STO['prod_loss'] = pd.to_numeric(dagelijkse_productie_STO['prod_loss'], errors='coerce')\n",
    "\n",
    "# # columns_to_convert_to_float = ['prod_loss_perc']\n",
    "# # dagelijkse_productie_STO[columns_to_convert_to_float] = dagelijkse_productie_STO[columns_to_convert_to_float].astype(float) \n",
    "\n",
    "# dagelijkse_productie_STO.info()"
   ]
  },
  {
   "cell_type": "code",
   "execution_count": 194,
   "metadata": {},
   "outputs": [],
   "source": [
    "# C.3.1.b identificeer de 0 dagen productie lijnen\n",
    "dagelijkse_productie_BRU_geen_productie = dagelijkse_productie_BRU[dagelijkse_productie_BRU['maintenance'] == 'No']\n",
    "# dagelijkse_productie_BRU_maintenance_removed\n"
   ]
  },
  {
   "cell_type": "code",
   "execution_count": null,
   "metadata": {},
   "outputs": [],
   "source": []
  },
  {
   "cell_type": "code",
   "execution_count": null,
   "metadata": {},
   "outputs": [],
   "source": []
  },
  {
   "cell_type": "markdown",
   "metadata": {},
   "source": [
    "# F : analyse van de mogelijke verdelingen"
   ]
  },
  {
   "cell_type": "code",
   "execution_count": 195,
   "metadata": {},
   "outputs": [
    {
     "name": "stdout",
     "output_type": "stream",
     "text": [
      "Aantal ontbrekende waarden: 0\n",
      "Aantal niet-numerieke waarden: 1716\n"
     ]
    }
   ],
   "source": [
    "#  controle van de kolom productie voor de STO fabriek\n",
    "missing_values = dagelijkse_productie_STO['production'].isnull().sum()\n",
    "non_numeric_values = (dagelijkse_productie_STO['production'].apply(lambda x: isinstance(x, (int, float)))).sum()\n",
    "print(f\"Aantal ontbrekende waarden: {missing_values}\")\n",
    "print(f\"Aantal niet-numerieke waarden: {non_numeric_values}\")\n"
   ]
  },
  {
   "cell_type": "code",
   "execution_count": 196,
   "metadata": {},
   "outputs": [
    {
     "name": "stdout",
     "output_type": "stream",
     "text": [
      "Kans op STO productiedag zonder productie =  0.07342657342657342 \n"
     ]
    },
    {
     "data": {
      "image/png": "[encoded data removed]",
      "text/plain": [
       "<Figure size 640x480 with 1 Axes>"
      ]
     },
     "metadata": {},
     "output_type": "display_data"
    }
   ],
   "source": [
    "# fitting data voor STO fabriek\n",
    "dagelijkse_productie_STO['production'] = dagelijkse_productie_STO['production'].apply(pd.to_numeric)\n",
    "\n",
    "plotdata_STO_zonder_productie_df = dagelijkse_productie_STO[dagelijkse_productie_STO['production'] == 0]\n",
    "plotdata_STO_zonder_productie_arr = plotdata_STO_zonder_productie_df['production'].to_numpy()\n",
    "print(f\"Kans op STO productiedag zonder productie =  {len(plotdata_STO_zonder_productie_arr) / len(dagelijkse_productie_STO['production'])} \")\n",
    "\n",
    "plotdata_STO_met_productie_df = dagelijkse_productie_STO[dagelijkse_productie_STO['production'] != 0]\n",
    "plotdata_STO_met_productie_arr = plotdata_STO_met_productie_df['production'].to_numpy()\n",
    "\n",
    "mu_STO, sigma_STO = norm.fit(plotdata_STO_met_productie_arr)\n",
    "\n",
    "# Maak een histogram van de gegevens\n",
    "plt.hist(plotdata_STO_met_productie_arr, bins=30, density=True, alpha=0.6, color='b', edgecolor='black')\n",
    "\n",
    "# Maak een PDF (probability density function) op basis van de geschatte parameters\n",
    "x = np.linspace(min(plotdata_STO_met_productie_arr), max(plotdata_STO_met_productie_arr), 100)\n",
    "pdf_STO = norm.pdf(x, mu_STO, sigma_STO)\n",
    "\n",
    "# Plot de PDF\n",
    "plt.plot(x, pdf_STO, 'r', linewidth=2)\n",
    "plt.title(f'Geschatte Normale Verdeling: mu={mu_STO:.2f}, sigma={sigma_STO:.2f}')\n",
    "plt.xlabel('Waarde Productie')\n",
    "plt.ylabel('kansdichtheid')\n",
    "plt.grid(True)\n",
    "plt.show()"
   ]
  },
  {
   "cell_type": "code",
   "execution_count": 197,
   "metadata": {},
   "outputs": [
    {
     "name": "stdout",
     "output_type": "stream",
     "text": [
      "Aantal ontbrekende waarden: 0\n",
      "Aantal niet-numerieke waarden: 1736\n"
     ]
    }
   ],
   "source": [
    "#  controle van de kolom productie voor de BRU fabriek\n",
    "missing_values = dagelijkse_productie_BRU['production'].isnull().sum()\n",
    "non_numeric_values = (dagelijkse_productie_BRU['production'].apply(lambda x: isinstance(x, (int, float)))).sum()\n",
    "print(f\"Aantal ontbrekende waarden: {missing_values}\")\n",
    "print(f\"Aantal niet-numerieke waarden: {non_numeric_values}\")"
   ]
  },
  {
   "cell_type": "code",
   "execution_count": 198,
   "metadata": {},
   "outputs": [
    {
     "data": {
      "text/plain": [
       "array([1183, 1138, 1115, ..., 1063, 1046, 1073], dtype=object)"
      ]
     },
     "execution_count": 198,
     "metadata": {},
     "output_type": "execute_result"
    }
   ],
   "source": [
    "plotdata_BRU = dagelijkse_productie_BRU['production'].to_numpy()\n",
    "plotdata_BRU"
   ]
  },
  {
   "cell_type": "code",
   "execution_count": 199,
   "metadata": {},
   "outputs": [
    {
     "name": "stdout",
     "output_type": "stream",
     "text": [
      "Kans op BRU productiedag zonder productie =  0.1774193548387097 \n"
     ]
    },
    {
     "data": {
      "image/png": "[encoded data removed]",
      "text/plain": [
       "<Figure size 640x480 with 1 Axes>"
      ]
     },
     "metadata": {},
     "output_type": "display_data"
    }
   ],
   "source": [
    "# fitting data voor BRU fabriek\n",
    "dagelijkse_productie_BRU['production'] = dagelijkse_productie_BRU['production'].apply(pd.to_numeric)\n",
    "# plotdata_BRU = dagelijkse_productie_BRU['production'].to_numpy()\n",
    "\n",
    "plotdata_BRU_zonder_productie_df = dagelijkse_productie_BRU[dagelijkse_productie_BRU['production'] == 0]\n",
    "plotdata_BRU_zonder_productie_arr = plotdata_BRU_zonder_productie_df['production'].to_numpy()\n",
    "print(f\"Kans op BRU productiedag zonder productie =  {len(plotdata_BRU_zonder_productie_arr) / len(dagelijkse_productie_BRU['production'])} \")\n",
    "\n",
    "plotdata_BRU_met_productie_df = dagelijkse_productie_BRU[dagelijkse_productie_BRU['production'] != 0]\n",
    "plotdata_BRU_met_productie_arr = plotdata_BRU_met_productie_df['production'].to_numpy()\n",
    "\n",
    "mu_BRU, sigma_BRU = norm.fit(plotdata_BRU_met_productie_arr)\n",
    "\n",
    "# Maak een histogram van de gegevens\n",
    "plt.hist(plotdata_BRU_met_productie_arr, bins=30, density=True, alpha=0.6, color='b', edgecolor='black')\n",
    "\n",
    "# Maak een PDF (probability density function) op basis van de geschatte parameters\n",
    "x = np.linspace(min(plotdata_BRU_met_productie_arr), max(plotdata_BRU_met_productie_arr), 100)\n",
    "pdf_BRU = norm.pdf(x, mu_BRU, sigma_BRU)\n",
    "\n",
    "# Plot de PDF\n",
    "plt.plot(x, pdf_BRU, 'r', linewidth=2)\n",
    "plt.title(f'Geschatte Normale Verdeling: mu={mu_BRU:.2f}, sigma={sigma_BRU:.2f}')\n",
    "plt.xlabel('Waarde Productie')\n",
    "plt.ylabel('kansdichtheid')\n",
    "plt.grid(True)\n",
    "plt.show()"
   ]
  },
  {
   "cell_type": "code",
   "execution_count": 200,
   "metadata": {},
   "outputs": [
    {
     "data": {
      "image/png": "[encoded data removed]",
      "text/plain": [
       "<Figure size 640x480 with 1 Axes>"
      ]
     },
     "metadata": {},
     "output_type": "display_data"
    }
   ],
   "source": [
    "# voorbeeld analyse, fit data\n",
    "\n",
    "# Genereer voorbeeldgegevens (normaal verdeeld)\n",
    "np.random.seed(42)\n",
    "data = np.random.normal(loc=5, scale=2, size=1000)\n",
    "\n",
    "# Schat de parameters van de normale verdeling\n",
    "mu, sigma = norm.fit(data)\n",
    "\n",
    "# Maak een histogram van de gegevens\n",
    "plt.hist(data, bins=30, density=True, alpha=0.6, color='b', edgecolor='black')\n",
    "\n",
    "# Maak een PDF (probability density function) op basis van de geschatte parameters\n",
    "x = np.linspace(min(data), max(data), 100)\n",
    "pdf = norm.pdf(x, mu, sigma)\n",
    "\n",
    "# Plot de PDF\n",
    "plt.plot(x, pdf, 'r', linewidth=2)\n",
    "plt.title(f'Geschatte Normale Verdeling: mu={mu:.2f}, sigma={sigma:.2f}')\n",
    "plt.xlabel('te analyseren waarde')\n",
    "plt.ylabel('kansdichtheid')\n",
    "plt.grid(True)\n",
    "plt.show()"
   ]
  },
  {
   "cell_type": "markdown",
   "metadata": {},
   "source": [
    "# G : uitvoeren van de Simulatie"
   ]
  },
  {
   "cell_type": "code",
   "execution_count": 201,
   "metadata": {},
   "outputs": [],
   "source": [
    "xx = np.linspace(0, 10 ** 4)\n",
    "data = sim.simulatie(7)\n",
    "Fxx = sim.cumulatieve_distributie_functie(xx)\n",
    "# plt.plot(xx, Fxx)"
   ]
  }
 ],
 "metadata": {
  "kernelspec": {
   "display_name": ".venv",
   "language": "python",
   "name": "python3"
  },
  "language_info": {
   "codemirror_mode": {
    "name": "ipython",
    "version": 3
   },
   "file_extension": ".py",
   "mimetype": "text/x-python",
   "name": "python",
   "nbconvert_exporter": "python",
   "pygments_lexer": "ipython3",
   "version": "3.12.3"
  }
 },
 "nbformat": 4,
 "nbformat_minor": 2
}
